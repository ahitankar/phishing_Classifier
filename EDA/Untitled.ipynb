{
 "cells": [
  {
   "cell_type": "code",
   "execution_count": 3,
   "id": "6f93a177",
   "metadata": {},
   "outputs": [],
   "source": [
    "import pandas as pd\n",
    "import matplotlib.pyplot as plot\n",
    "import seaborn as sns\n",
    "import numpy as np\n",
    "import re"
   ]
  },
  {
   "cell_type": "code",
   "execution_count": null,
   "id": "a569597a",
   "metadata": {},
   "outputs": [],
   "source": [
    "Input : \"Fresh Gravity is a technology consulting firm.\"\n",
    "Output :\n",
    "Fresh 0 4\n",
    "Gravity 6 12\n",
    "...\n"
   ]
  },
  {
   "cell_type": "code",
   "execution_count": 11,
   "id": "69e7888b",
   "metadata": {},
   "outputs": [],
   "source": [
    "input=\"Fresh Gravity is a technology consulting firm. 1\""
   ]
  },
  {
   "cell_type": "code",
   "execution_count": 12,
   "id": "abe1323d",
   "metadata": {},
   "outputs": [
    {
     "name": "stdout",
     "output_type": "stream",
     "text": [
      "0 4\n",
      "6 12\n",
      "14 15\n",
      "17 17\n",
      "19 28\n",
      "30 39\n",
      "41 45\n",
      "47 47\n"
     ]
    }
   ],
   "source": [
    "for i in re.finditer( '\\S+',input):\n",
    "    print(i.start(),i.end()-1)"
   ]
  },
  {
   "cell_type": "code",
   "execution_count": null,
   "id": "a256c032",
   "metadata": {},
   "outputs": [],
   "source": []
  }
 ],
 "metadata": {
  "kernelspec": {
   "display_name": "Python 3",
   "language": "python",
   "name": "python3"
  },
  "language_info": {
   "codemirror_mode": {
    "name": "ipython",
    "version": 3
   },
   "file_extension": ".py",
   "mimetype": "text/x-python",
   "name": "python",
   "nbconvert_exporter": "python",
   "pygments_lexer": "ipython3",
   "version": "3.8.8"
  }
 },
 "nbformat": 4,
 "nbformat_minor": 5
}
